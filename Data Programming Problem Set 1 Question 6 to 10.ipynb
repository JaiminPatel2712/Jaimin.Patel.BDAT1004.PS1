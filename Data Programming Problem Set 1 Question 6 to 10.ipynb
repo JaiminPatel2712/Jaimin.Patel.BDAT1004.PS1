{
 "cells": [
  {
   "cell_type": "code",
   "execution_count": null,
   "id": "4bc51001",
   "metadata": {},
   "outputs": [],
   "source": [
    "#QUESTION : 6"
   ]
  },
  {
   "cell_type": "code",
   "execution_count": 1,
   "id": "169574e3",
   "metadata": {},
   "outputs": [],
   "source": [
    "def pig(word):\n",
    "    vowels = ['a','e','i','o','u']\n",
    "    # Checking the first letter \n",
    "    if word[0].lower() in vowels:\n",
    "        word = word + 'way'\n",
    "    else:\n",
    "        firstChar = word[0]\n",
    "        word = word[1:]\n",
    "        word = word + firstChar + 'ay'\n",
    "    #Return the changed word\n",
    "    return word.lower()"
   ]
  },
  {
   "cell_type": "code",
   "execution_count": 2,
   "id": "3f5976d3",
   "metadata": {},
   "outputs": [
    {
     "data": {
      "text/plain": [
       "'appyhay'"
      ]
     },
     "execution_count": 2,
     "metadata": {},
     "output_type": "execute_result"
    }
   ],
   "source": [
    "pig('happy')"
   ]
  },
  {
   "cell_type": "code",
   "execution_count": 3,
   "id": "45a4485e",
   "metadata": {},
   "outputs": [
    {
     "data": {
      "text/plain": [
       "'enterway'"
      ]
     },
     "execution_count": 3,
     "metadata": {},
     "output_type": "execute_result"
    }
   ],
   "source": [
    "pig('Enter')"
   ]
  },
  {
   "cell_type": "code",
   "execution_count": null,
   "id": "259c5162",
   "metadata": {},
   "outputs": [],
   "source": [
    "#QUESTION : 7"
   ]
  },
  {
   "cell_type": "code",
   "execution_count": 11,
   "id": "644c6387",
   "metadata": {},
   "outputs": [
    {
     "name": "stdout",
     "output_type": "stream",
     "text": [
      "There are 15 patients of blood type A\n",
      "There is 1 patients of blood type B\n",
      "There are 13 patients of blood type AB\n",
      "There are 15 patients of blood type O\n",
      "There are no patients of blood type OO\n"
     ]
    }
   ],
   "source": [
    "file = open(r'C:\\Users\\Owner\\OneDrive - Georgian College\\Desktop\\blood.txt', 'r')\n",
    "\n",
    "\n",
    "for i in file:\n",
    "    bloodtype = []\n",
    "    for value in i.split():\n",
    "        \n",
    "        bloodtype.append(value)\n",
    "        \n",
    "file.close()   \n",
    "\n",
    "# print(bloodtype)\n",
    "\n",
    "bloodtypeCounts = {'A':bloodtype.count('A'),'B':bloodtype.count('B'),'AB':bloodtype.count('AB'),'O':bloodtype.count('O'),'OO':bloodtype.count('OO')}\n",
    "\n",
    "# print(bloodtypeCounts)\n",
    "\n",
    "for i,j in bloodtypeCounts.items():\n",
    "    if j==0:\n",
    "        print(\"There are no patients of blood type\",i)\n",
    "    elif j==1:\n",
    "        print(\"There is\",j, \"patients of blood type\",i)\n",
    "    else:\n",
    "        print(\"There are\",j, \"patients of blood type\",i)\n",
    "\n"
   ]
  },
  {
   "cell_type": "code",
   "execution_count": null,
   "id": "18707623",
   "metadata": {},
   "outputs": [],
   "source": [
    "#QUESTION : 8"
   ]
  },
  {
   "cell_type": "code",
   "execution_count": 15,
   "id": "a4d3b6f6",
   "metadata": {},
   "outputs": [
    {
     "name": "stdout",
     "output_type": "stream",
     "text": [
      "Enter the currency code INR\n",
      "Enter the amount 1000\n",
      "\n",
      "\n",
      "Enterd Currency: INR 0.0177643\n",
      "Entered Amount to be converted: 1000\n",
      "17.7643\n"
     ]
    }
   ],
   "source": [
    "file = open(r'C:\\Users\\Owner\\OneDrive - Georgian College\\Desktop\\currencies.txt', 'r')\n",
    "data = file.read().replace('\\n','\\n')\n",
    "file.close()\n",
    "cur = input(\"Enter the currency code \")\n",
    "amount = int(input(\"Enter the amount \"))\n",
    "\n",
    "#To Get the exchange values\n",
    "with open(r'C:\\Users\\Owner\\OneDrive - Georgian College\\Desktop\\currencies.txt', 'r') as data_file:\n",
    "    currencyNames = {};\n",
    "    currency = {};\n",
    "    for line in data_file:\n",
    "        data = line.split()\n",
    "        currency[data[0]] = float(data[1])\n",
    "        currencyNames[data[0]] = data[0] +\" \"+ data[1]\n",
    "\n",
    "print(\"\\n\")\n",
    "curEntered = currencyNames[cur.upper()]\n",
    "\n",
    "print(\"Enterd Currency: \"+curEntered)\n",
    "print(\"Entered Amount to be converted: \"+ str(amount))\n",
    "cur = cur.upper()\n",
    "\n",
    "#Function for Exchanging currency rates\n",
    "def curconv(cur,amount):\n",
    "    cur = cur.upper()\n",
    "    conv = currency[cur] * amount\n",
    "    print(conv)\n",
    "\n",
    "curconv(cur,amount)\n"
   ]
  },
  {
   "cell_type": "code",
   "execution_count": null,
   "id": "8c01f33b",
   "metadata": {},
   "outputs": [],
   "source": [
    "#QUESTION : 9"
   ]
  },
  {
   "cell_type": "code",
   "execution_count": 16,
   "id": "d48017c2",
   "metadata": {},
   "outputs": [
    {
     "ename": "SyntaxError",
     "evalue": "invalid character '‘' (U+2018) (3810876194.py, line 3)",
     "output_type": "error",
     "traceback": [
      "\u001b[1;36m  Cell \u001b[1;32mIn[16], line 3\u001b[1;36m\u001b[0m\n\u001b[1;33m    6 + ‘a’\u001b[0m\n\u001b[1;37m        ^\u001b[0m\n\u001b[1;31mSyntaxError\u001b[0m\u001b[1;31m:\u001b[0m invalid character '‘' (U+2018)\n"
     ]
    }
   ],
   "source": [
    "6 + ‘a’  #Syntax Error"
   ]
  },
  {
   "cell_type": "code",
   "execution_count": 17,
   "id": "aa201767",
   "metadata": {},
   "outputs": [
    {
     "ename": "IndexError",
     "evalue": "list index out of range",
     "output_type": "error",
     "traceback": [
      "\u001b[1;31m---------------------------------------------------------------------------\u001b[0m",
      "\u001b[1;31mIndexError\u001b[0m                                Traceback (most recent call last)",
      "Cell \u001b[1;32mIn[17], line 2\u001b[0m\n\u001b[0;32m      1\u001b[0m \u001b[38;5;28mlist\u001b[39m\u001b[38;5;241m=\u001b[39m[\u001b[38;5;241m1\u001b[39m,\u001b[38;5;241m2\u001b[39m,\u001b[38;5;241m3\u001b[39m,\u001b[38;5;241m4\u001b[39m,\u001b[38;5;241m5\u001b[39m,\u001b[38;5;241m6\u001b[39m,\u001b[38;5;241m7\u001b[39m,\u001b[38;5;241m8\u001b[39m,\u001b[38;5;241m9\u001b[39m,\u001b[38;5;241m10\u001b[39m]\n\u001b[1;32m----> 2\u001b[0m \u001b[38;5;28;43mlist\u001b[39;49m\u001b[43m[\u001b[49m\u001b[38;5;241;43m11\u001b[39;49m\u001b[43m]\u001b[49m\n",
      "\u001b[1;31mIndexError\u001b[0m: list index out of range"
     ]
    }
   ],
   "source": [
    "list=[1,2,3,4,5,6,7,8,9,10]      #Index Error\n",
    "list[11]"
   ]
  },
  {
   "cell_type": "code",
   "execution_count": 18,
   "id": "b3fe074a",
   "metadata": {},
   "outputs": [
    {
     "ename": "ValueError",
     "evalue": "math domain error",
     "output_type": "error",
     "traceback": [
      "\u001b[1;31m---------------------------------------------------------------------------\u001b[0m",
      "\u001b[1;31mValueError\u001b[0m                                Traceback (most recent call last)",
      "Cell \u001b[1;32mIn[18], line 2\u001b[0m\n\u001b[0;32m      1\u001b[0m \u001b[38;5;28;01mimport\u001b[39;00m \u001b[38;5;21;01mmath\u001b[39;00m\n\u001b[1;32m----> 2\u001b[0m \u001b[43mmath\u001b[49m\u001b[38;5;241;43m.\u001b[39;49m\u001b[43msqrt\u001b[49m\u001b[43m(\u001b[49m\u001b[38;5;241;43m-\u001b[39;49m\u001b[38;5;241;43m1.0\u001b[39;49m\u001b[43m)\u001b[49m\n",
      "\u001b[1;31mValueError\u001b[0m: math domain error"
     ]
    }
   ],
   "source": [
    "import math             #Value Error\n",
    "math.sqrt(-1.0)"
   ]
  },
  {
   "cell_type": "code",
   "execution_count": 19,
   "id": "64f90a0d",
   "metadata": {},
   "outputs": [
    {
     "ename": "NameError",
     "evalue": "name 'x' is not defined",
     "output_type": "error",
     "traceback": [
      "\u001b[1;31m---------------------------------------------------------------------------\u001b[0m",
      "\u001b[1;31mNameError\u001b[0m                                 Traceback (most recent call last)",
      "Cell \u001b[1;32mIn[19], line 1\u001b[0m\n\u001b[1;32m----> 1\u001b[0m \u001b[38;5;28mprint\u001b[39m(\u001b[43mx\u001b[49m)\n",
      "\u001b[1;31mNameError\u001b[0m: name 'x' is not defined"
     ]
    }
   ],
   "source": [
    "print(x)               #NameError"
   ]
  },
  {
   "cell_type": "code",
   "execution_count": 20,
   "id": "fc1155c6",
   "metadata": {},
   "outputs": [
    {
     "ename": "FileNotFoundError",
     "evalue": "[Errno 2] No such file or directory: 'hi.txt'",
     "output_type": "error",
     "traceback": [
      "\u001b[1;31m---------------------------------------------------------------------------\u001b[0m",
      "\u001b[1;31mFileNotFoundError\u001b[0m                         Traceback (most recent call last)",
      "Cell \u001b[1;32mIn[20], line 1\u001b[0m\n\u001b[1;32m----> 1\u001b[0m f \u001b[38;5;241m=\u001b[39m \u001b[38;5;28;43mopen\u001b[39;49m\u001b[43m(\u001b[49m\u001b[38;5;124;43m\"\u001b[39;49m\u001b[38;5;124;43mhi.txt\u001b[39;49m\u001b[38;5;124;43m\"\u001b[39;49m\u001b[43m,\u001b[49m\u001b[43m \u001b[49m\u001b[38;5;124;43m\"\u001b[39;49m\u001b[38;5;124;43mr\u001b[39;49m\u001b[38;5;124;43m\"\u001b[39;49m\u001b[43m)\u001b[49m\n\u001b[0;32m      2\u001b[0m \u001b[38;5;28mprint\u001b[39m(f\u001b[38;5;241m.\u001b[39mread())\n",
      "File \u001b[1;32m~\\anaconda3\\lib\\site-packages\\IPython\\core\\interactiveshell.py:282\u001b[0m, in \u001b[0;36m_modified_open\u001b[1;34m(file, *args, **kwargs)\u001b[0m\n\u001b[0;32m    275\u001b[0m \u001b[38;5;28;01mif\u001b[39;00m file \u001b[38;5;129;01min\u001b[39;00m {\u001b[38;5;241m0\u001b[39m, \u001b[38;5;241m1\u001b[39m, \u001b[38;5;241m2\u001b[39m}:\n\u001b[0;32m    276\u001b[0m     \u001b[38;5;28;01mraise\u001b[39;00m \u001b[38;5;167;01mValueError\u001b[39;00m(\n\u001b[0;32m    277\u001b[0m         \u001b[38;5;124mf\u001b[39m\u001b[38;5;124m\"\u001b[39m\u001b[38;5;124mIPython won\u001b[39m\u001b[38;5;124m'\u001b[39m\u001b[38;5;124mt let you open fd=\u001b[39m\u001b[38;5;132;01m{\u001b[39;00mfile\u001b[38;5;132;01m}\u001b[39;00m\u001b[38;5;124m by default \u001b[39m\u001b[38;5;124m\"\u001b[39m\n\u001b[0;32m    278\u001b[0m         \u001b[38;5;124m\"\u001b[39m\u001b[38;5;124mas it is likely to crash IPython. If you know what you are doing, \u001b[39m\u001b[38;5;124m\"\u001b[39m\n\u001b[0;32m    279\u001b[0m         \u001b[38;5;124m\"\u001b[39m\u001b[38;5;124myou can use builtins\u001b[39m\u001b[38;5;124m'\u001b[39m\u001b[38;5;124m open.\u001b[39m\u001b[38;5;124m\"\u001b[39m\n\u001b[0;32m    280\u001b[0m     )\n\u001b[1;32m--> 282\u001b[0m \u001b[38;5;28;01mreturn\u001b[39;00m io_open(file, \u001b[38;5;241m*\u001b[39margs, \u001b[38;5;241m*\u001b[39m\u001b[38;5;241m*\u001b[39mkwargs)\n",
      "\u001b[1;31mFileNotFoundError\u001b[0m: [Errno 2] No such file or directory: 'hi.txt'"
     ]
    }
   ],
   "source": [
    "f = open(\"hi.txt\", \"r\")   #FileNotFoundError\n",
    "print(f.read())"
   ]
  },
  {
   "cell_type": "code",
   "execution_count": 21,
   "id": "2f25b209",
   "metadata": {},
   "outputs": [],
   "source": [
    "#QUESTION : 10\n"
   ]
  },
  {
   "cell_type": "code",
   "execution_count": 22,
   "id": "49fae39e",
   "metadata": {},
   "outputs": [
    {
     "data": {
      "text/plain": [
       "[1, 1, 1, 3, 5, 1, 1, 2, 1, 0, 1, 0, 1, 2, 4, 0, 1, 2, 0, 2, 1, 0, 1, 1, 0, 0]"
      ]
     },
     "execution_count": 22,
     "metadata": {},
     "output_type": "execute_result"
    }
   ],
   "source": [
    "Letters=\"abcdefghijklmnopqrstuvwxyz\"\n",
    "\n",
    "#function to calculate letter frequencies\n",
    "def frequencies(string):\n",
    "    Occ=[]\n",
    "    for i in Letters : #Count the occurrences\n",
    "        Occ.append(string.count(i))\n",
    "    return Occ\n",
    "\n",
    "oc=frequencies('The quick red fox got bored and went home.') \n",
    "oc\n"
   ]
  },
  {
   "cell_type": "code",
   "execution_count": 23,
   "id": "df604170",
   "metadata": {},
   "outputs": [
    {
     "data": {
      "text/plain": [
       "[1, 0, 0, 0, 1, 0, 0, 0, 0, 0, 0, 1, 0, 0, 0, 2, 0, 0, 0, 0, 0, 0, 0, 0, 0, 0]"
      ]
     },
     "execution_count": 23,
     "metadata": {},
     "output_type": "execute_result"
    }
   ],
   "source": [
    "oc=frequencies('apple')\n",
    "oc  "
   ]
  },
  {
   "cell_type": "code",
   "execution_count": null,
   "id": "be7b343d",
   "metadata": {},
   "outputs": [],
   "source": []
  }
 ],
 "metadata": {
  "kernelspec": {
   "display_name": "Python 3 (ipykernel)",
   "language": "python",
   "name": "python3"
  },
  "language_info": {
   "codemirror_mode": {
    "name": "ipython",
    "version": 3
   },
   "file_extension": ".py",
   "mimetype": "text/x-python",
   "name": "python",
   "nbconvert_exporter": "python",
   "pygments_lexer": "ipython3",
   "version": "3.10.9"
  }
 },
 "nbformat": 4,
 "nbformat_minor": 5
}
