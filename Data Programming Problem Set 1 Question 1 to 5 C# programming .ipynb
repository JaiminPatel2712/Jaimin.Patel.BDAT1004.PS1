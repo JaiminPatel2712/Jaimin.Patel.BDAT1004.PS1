{
 "cells": [
  {
   "cell_type": "code",
   "execution_count": 28,
   "id": "939a5b8e",
   "metadata": {},
   "outputs": [],
   "source": [
    "//Question : 1 (C# programming)"
   ]
  },
  {
   "cell_type": "code",
   "execution_count": 29,
   "id": "2c5d3f41",
   "metadata": {},
   "outputs": [
    {
     "name": "stdout",
     "output_type": "stream",
     "text": [
      "Int32\r\n"
     ]
    }
   ],
   "source": [
    "object a = 5;\n",
    "Console.WriteLine(a.GetType().Name)"
   ]
  },
  {
   "cell_type": "code",
   "execution_count": 30,
   "id": "b5cd8cd2",
   "metadata": {},
   "outputs": [
    {
     "name": "stdout",
     "output_type": "stream",
     "text": [
      "Double\r\n"
     ]
    }
   ],
   "source": [
    "a = 5.0;\n",
    "Console.WriteLine(a.GetType().Name)"
   ]
  },
  {
   "cell_type": "code",
   "execution_count": 31,
   "id": "702bbdc3",
   "metadata": {},
   "outputs": [
    {
     "name": "stdout",
     "output_type": "stream",
     "text": [
      "Boolean\r\n"
     ]
    }
   ],
   "source": [
    "a=5>1;\n",
    "Console.WriteLine(a.GetType().Name)"
   ]
  },
  {
   "cell_type": "code",
   "execution_count": 32,
   "id": "12a0ba8d",
   "metadata": {},
   "outputs": [
    {
     "name": "stdout",
     "output_type": "stream",
     "text": [
      "Char\r\n"
     ]
    }
   ],
   "source": [
    "a = '5';\n",
    "Console.WriteLine(a.GetType().Name)"
   ]
  },
  {
   "cell_type": "code",
   "execution_count": 33,
   "id": "392a3e4f",
   "metadata": {},
   "outputs": [
    {
     "name": "stdout",
     "output_type": "stream",
     "text": [
      "Int32\r\n"
     ]
    }
   ],
   "source": [
    "a = 5*2;\n",
    "Console.WriteLine(a.GetType().Name)"
   ]
  },
  {
   "cell_type": "code",
   "execution_count": 34,
   "id": "f5e5ae7f",
   "metadata": {},
   "outputs": [
    {
     "name": "stdout",
     "output_type": "stream",
     "text": [
      "Int32\r\n"
     ]
    }
   ],
   "source": [
    "a = '5'*2;\n",
    "Console.WriteLine(a.GetType().Name)"
   ]
  },
  {
   "cell_type": "code",
   "execution_count": 35,
   "id": "1e93040f",
   "metadata": {},
   "outputs": [
    {
     "name": "stdout",
     "output_type": "stream",
     "text": [
      "Int32\r\n"
     ]
    }
   ],
   "source": [
    "a = '5' + '2';\n",
    "Console.WriteLine(a.GetType().Name)"
   ]
  },
  {
   "cell_type": "code",
   "execution_count": 36,
   "id": "623a73f7",
   "metadata": {},
   "outputs": [
    {
     "name": "stdout",
     "output_type": "stream",
     "text": [
      "Int32\r\n"
     ]
    }
   ],
   "source": [
    "a = 5/2;\n",
    "Console.WriteLine(a.GetType().Name)"
   ]
  },
  {
   "cell_type": "code",
   "execution_count": 37,
   "id": "fd66d4c9",
   "metadata": {},
   "outputs": [
    {
     "name": "stdout",
     "output_type": "stream",
     "text": [
      "Int32\r\n"
     ]
    }
   ],
   "source": [
    "a = 5%2;\n",
    "Console.WriteLine(a.GetType().Name)"
   ]
  },
  {
   "cell_type": "code",
   "execution_count": 38,
   "id": "b3813dc4",
   "metadata": {},
   "outputs": [
    {
     "name": "stdout",
     "output_type": "stream",
     "text": [
      "Int32[]\r\n"
     ]
    }
   ],
   "source": [
    "a =new int[]{5, 2, 1};\n",
    "Console.WriteLine(a.GetType().Name)"
   ]
  },
  {
   "cell_type": "code",
   "execution_count": 39,
   "id": "92179172",
   "metadata": {},
   "outputs": [
    {
     "name": "stdout",
     "output_type": "stream",
     "text": [
      "Int32[]\r\n"
     ]
    }
   ],
   "source": [
    "a =new int[]{5, 2, 1};\n",
    "Console.WriteLine(a.GetType().Name)"
   ]
  },
  {
   "cell_type": "code",
   "execution_count": 40,
   "id": "5fa003b9",
   "metadata": {},
   "outputs": [
    {
     "name": "stdout",
     "output_type": "stream",
     "text": [
      "Boolean\r\n"
     ]
    }
   ],
   "source": [
    "a = 5==3;\n",
    "Console.WriteLine(a.GetType().Name)"
   ]
  },
  {
   "cell_type": "code",
   "execution_count": 41,
   "id": "1a2a7980",
   "metadata": {},
   "outputs": [
    {
     "name": "stdout",
     "output_type": "stream",
     "text": [
      "Double\r\n"
     ]
    }
   ],
   "source": [
    "a = Math.PI;\n",
    "Console.WriteLine(a.GetType().Name)"
   ]
  },
  {
   "cell_type": "code",
   "execution_count": null,
   "id": "a2123b66",
   "metadata": {},
   "outputs": [],
   "source": []
  },
  {
   "cell_type": "code",
   "execution_count": 42,
   "id": "39c1cfe5",
   "metadata": {},
   "outputs": [],
   "source": [
    "//QUESTION 2 (C# Programmin)"
   ]
  },
  {
   "cell_type": "code",
   "execution_count": 43,
   "id": "0e54ad0c",
   "metadata": {},
   "outputs": [
    {
     "name": "stdout",
     "output_type": "stream",
     "text": [
      "The string contanins 34 letters\n",
      "The string contanins Ice ? True\n",
      "The longest word(s) is/are Supercalifragilisticexpialidocious, Bababadalgharaghtakamminarronnkonn\n",
      "First Name in dictionary is Bartok and  Last Name in dictionary is Buxtehude\n"
     ]
    }
   ],
   "source": [
    "string word = \"Supercalifragilisticexpialidocious\";\n",
    "\n",
    "//Question 2(A)//\n",
    "\n",
    "int characterCount = word.Length; // string length\n",
    "Console.WriteLine(\"The string contanins \" + word.Length + \" letters\");\n",
    "\n",
    "\n",
    "\n",
    "\n",
    "//Question 2(B)//\n",
    "\n",
    "bool text = word.Contains(\"ice\"); \n",
    "Console.WriteLine(\"The string contanins Ice ? \" + text);\n",
    "\n",
    "\n",
    "\n",
    "\n",
    "//Question 2(C)//\n",
    "\n",
    "string word1 = \"Supercalifragilisticexpialidocious\";\n",
    "string word2 = \"Honorificabilitudinitatibus\";\n",
    "string word3 = \"Bababadalgharaghtakamminarronnkonn\";\n",
    "\n",
    "// string length\n",
    "int x = word1.Length;\n",
    "int y = word2.Length;\n",
    "int z = word3.Length;\n",
    "int maxlen = 0;\n",
    "if (x > y && x > z)\n",
    "    {\n",
    "        maxlen = x;\n",
    "    }\n",
    "else if (y > x && y > z)\n",
    "    {\n",
    "        maxlen = y;\n",
    "    }\n",
    "else\n",
    "    {\n",
    "        maxlen = z;\n",
    "    }\n",
    "\n",
    "// Getting Max Words\n",
    "string maxWords = \"\";\n",
    "if (x == maxlen)\n",
    "{\n",
    "    maxWords = maxWords + (maxWords.Length != 0 ? \", \" : \"\") + word1;\n",
    "}\n",
    "if( y == maxlen )\n",
    "{\n",
    "    maxWords = maxWords + (maxWords.Length != 0 ? \", \" : \"\") + word2;\n",
    "}\n",
    "if( z == maxlen )\n",
    "{\n",
    "    maxWords = maxWords + (maxWords.Length != 0 ? \", \" : \"\") + word3;\n",
    "}\n",
    "\n",
    "Console.WriteLine(\"The longest word(s) is/are \" + maxWords);\n",
    "\n",
    "\n",
    "\n",
    "\n",
    "// Question 2(D) //\n",
    "\n",
    "List<string> composers = new List<string> {\"Berlioz\", \"Borodin\", \"Brian\", \"Bartok\", \"Bellini\", \"Buxtehude\", \"Bernstein\"};\n",
    " //sorting the list\n",
    "composers.Sort(); \n",
    "\n",
    "string firstname = composers[0];\n",
    "string lastname = composers[composers.Count - 1];\n",
    "\n",
    "Console.WriteLine(\"First Name in dictionary is \" + firstname + \" and \" + \" Last Name in dictionary is \" + lastname);\n"
   ]
  },
  {
   "cell_type": "code",
   "execution_count": null,
   "id": "13c6ae42",
   "metadata": {},
   "outputs": [],
   "source": []
  },
  {
   "cell_type": "code",
   "execution_count": 44,
   "id": "eb2f057d",
   "metadata": {},
   "outputs": [],
   "source": [
    "//QUESTION 3 (C# Programming)"
   ]
  },
  {
   "cell_type": "code",
   "execution_count": 45,
   "id": "349995ef",
   "metadata": {},
   "outputs": [],
   "source": [
    "// for creating math function\n",
    "\n",
    "\n",
    "public static double triangleArea(int a, int b, int c )\n",
    "{\n",
    "    double s = (a + b + c) / 2;\n",
    "    double output = Math.Sqrt(s * (s - a) * (s - b) * (s - c));\n",
    "    return output;\n",
    "}"
   ]
  },
  {
   "cell_type": "code",
   "execution_count": 46,
   "id": "322eeb15",
   "metadata": {},
   "outputs": [
    {
     "data": {
      "text/html": [
       "<div class=\"dni-plaintext\"><pre>1.7320508075688772</pre></div><style>\r\n",
       ".dni-code-hint {\r\n",
       "    font-style: italic;\r\n",
       "    overflow: hidden;\r\n",
       "    white-space: nowrap;\r\n",
       "}\r\n",
       ".dni-treeview {\r\n",
       "    white-space: nowrap;\r\n",
       "}\r\n",
       ".dni-treeview td {\r\n",
       "    vertical-align: top;\r\n",
       "    text-align: start;\r\n",
       "}\r\n",
       "details.dni-treeview {\r\n",
       "    padding-left: 1em;\r\n",
       "}\r\n",
       "table td {\r\n",
       "    text-align: start;\r\n",
       "}\r\n",
       "table tr { \r\n",
       "    vertical-align: top; \r\n",
       "    margin: 0em 0px;\r\n",
       "}\r\n",
       "table tr td pre \r\n",
       "{ \r\n",
       "    vertical-align: top !important; \r\n",
       "    margin: 0em 0px !important;\r\n",
       "} \r\n",
       "table th {\r\n",
       "    text-align: start;\r\n",
       "}\r\n",
       "</style>"
      ]
     },
     "execution_count": 46,
     "metadata": {},
     "output_type": "execute_result"
    }
   ],
   "source": [
    "triangleArea(2,2,2)"
   ]
  },
  {
   "cell_type": "code",
   "execution_count": null,
   "id": "33f7b701",
   "metadata": {},
   "outputs": [],
   "source": []
  },
  {
   "cell_type": "code",
   "execution_count": 47,
   "id": "829b5491",
   "metadata": {},
   "outputs": [],
   "source": [
    "//QUESTION : 4 (C# Programming)"
   ]
  },
  {
   "cell_type": "code",
   "execution_count": 48,
   "id": "b903520d",
   "metadata": {},
   "outputs": [],
   "source": [
    "int[] a = {25, 47, 42, 56, 32};\n",
    "string oddNumbers = \"\";\n",
    "string evenNumbers = \"\";\n",
    "foreach(var i in a){\n",
    "    if(i % 2 == 0)        // Check if the current number is even\n",
    "    {\n",
    "        evenNumbers = evenNumbers + i + \" \" ;\n",
    "    }\n",
    "    else{\n",
    "        oddNumbers = oddNumbers + i + \" \" ;\n",
    "    }\n",
    "}\n"
   ]
  },
  {
   "cell_type": "code",
   "execution_count": 49,
   "id": "c359c262",
   "metadata": {},
   "outputs": [
    {
     "data": {
      "text/plain": [
       "42 56 32 "
      ]
     },
     "execution_count": 49,
     "metadata": {},
     "output_type": "execute_result"
    }
   ],
   "source": [
    "evenNumbers"
   ]
  },
  {
   "cell_type": "code",
   "execution_count": 50,
   "id": "cf7ff7b9",
   "metadata": {},
   "outputs": [
    {
     "data": {
      "text/plain": [
       "25 47 "
      ]
     },
     "execution_count": 50,
     "metadata": {},
     "output_type": "execute_result"
    }
   ],
   "source": [
    "oddNumbers"
   ]
  },
  {
   "cell_type": "code",
   "execution_count": null,
   "id": "16649833",
   "metadata": {},
   "outputs": [],
   "source": []
  },
  {
   "cell_type": "code",
   "execution_count": 51,
   "id": "c72966d8",
   "metadata": {},
   "outputs": [],
   "source": [
    "//QUESTION : 5 (C# programming) "
   ]
  },
  {
   "cell_type": "code",
   "execution_count": 52,
   "id": "40901048",
   "metadata": {},
   "outputs": [],
   "source": [
    "public static bool inside(float x, float y, float x1, float y1, float x2, float y2){\n",
    "   // Checking if the point (x, y) is inside the rectangle\n",
    "    if(x > x1 && x< x2 )\n",
    "    {\n",
    "        if(y> y1 && y < y2)\n",
    "        {\n",
    "            return true;\n",
    "        }\n",
    "    }\n",
    "    return false;\n",
    "}"
   ]
  },
  {
   "cell_type": "code",
   "execution_count": 53,
   "id": "fd610c99",
   "metadata": {},
   "outputs": [
    {
     "data": {
      "text/html": [
       "<div class=\"dni-plaintext\"><pre>True</pre></div><style>\r\n",
       ".dni-code-hint {\r\n",
       "    font-style: italic;\r\n",
       "    overflow: hidden;\r\n",
       "    white-space: nowrap;\r\n",
       "}\r\n",
       ".dni-treeview {\r\n",
       "    white-space: nowrap;\r\n",
       "}\r\n",
       ".dni-treeview td {\r\n",
       "    vertical-align: top;\r\n",
       "    text-align: start;\r\n",
       "}\r\n",
       "details.dni-treeview {\r\n",
       "    padding-left: 1em;\r\n",
       "}\r\n",
       "table td {\r\n",
       "    text-align: start;\r\n",
       "}\r\n",
       "table tr { \r\n",
       "    vertical-align: top; \r\n",
       "    margin: 0em 0px;\r\n",
       "}\r\n",
       "table tr td pre \r\n",
       "{ \r\n",
       "    vertical-align: top !important; \r\n",
       "    margin: 0em 0px !important;\r\n",
       "} \r\n",
       "table th {\r\n",
       "    text-align: start;\r\n",
       "}\r\n",
       "</style>"
      ]
     },
     "execution_count": 53,
     "metadata": {},
     "output_type": "execute_result"
    }
   ],
   "source": [
    "inside(1,1,0,0,2,3)"
   ]
  },
  {
   "cell_type": "code",
   "execution_count": 54,
   "id": "6ad3128c",
   "metadata": {},
   "outputs": [
    {
     "data": {
      "text/html": [
       "<div class=\"dni-plaintext\"><pre>False</pre></div><style>\r\n",
       ".dni-code-hint {\r\n",
       "    font-style: italic;\r\n",
       "    overflow: hidden;\r\n",
       "    white-space: nowrap;\r\n",
       "}\r\n",
       ".dni-treeview {\r\n",
       "    white-space: nowrap;\r\n",
       "}\r\n",
       ".dni-treeview td {\r\n",
       "    vertical-align: top;\r\n",
       "    text-align: start;\r\n",
       "}\r\n",
       "details.dni-treeview {\r\n",
       "    padding-left: 1em;\r\n",
       "}\r\n",
       "table td {\r\n",
       "    text-align: start;\r\n",
       "}\r\n",
       "table tr { \r\n",
       "    vertical-align: top; \r\n",
       "    margin: 0em 0px;\r\n",
       "}\r\n",
       "table tr td pre \r\n",
       "{ \r\n",
       "    vertical-align: top !important; \r\n",
       "    margin: 0em 0px !important;\r\n",
       "} \r\n",
       "table th {\r\n",
       "    text-align: start;\r\n",
       "}\r\n",
       "</style>"
      ]
     },
     "execution_count": 54,
     "metadata": {},
     "output_type": "execute_result"
    }
   ],
   "source": [
    "inside(-1,-1,0,0,2,3)"
   ]
  },
  {
   "cell_type": "code",
   "execution_count": null,
   "id": "cee7dbe1",
   "metadata": {},
   "outputs": [],
   "source": []
  },
  {
   "cell_type": "code",
   "execution_count": null,
   "id": "abd5c452",
   "metadata": {},
   "outputs": [],
   "source": []
  }
 ],
 "metadata": {
  "kernelspec": {
   "display_name": ".NET (C#)",
   "language": "C#",
   "name": ".net-csharp"
  },
  "language_info": {
   "file_extension": ".cs",
   "mimetype": "text/x-csharp",
   "name": "C#",
   "pygments_lexer": "csharp",
   "version": "11.0"
  }
 },
 "nbformat": 4,
 "nbformat_minor": 5
}
